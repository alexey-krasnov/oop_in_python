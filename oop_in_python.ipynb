{
 "cells": [
  {
   "cell_type": "markdown",
   "id": "04232463-c632-48b9-abd2-53aa8a41baba",
   "metadata": {},
   "source": [
    "# Object Oriented Programming in Python"
   ]
  },
  {
   "cell_type": "markdown",
   "id": "bb64ede4-8888-4a34-a0c0-3afeb5ba3f1a",
   "metadata": {},
   "source": [
    "## 1) Encapsulation in Python"
   ]
  },
  {
   "cell_type": "markdown",
   "id": "705ae454-b148-4d46-bb9b-993d85763110",
   "metadata": {},
   "source": [
    "Encapsulation is an object-oriented programming principle that restricts access to the internal data and methods of an object, exposing only the necessary parts through defined methods. This helps protect data from unintended changes and simplifies the management of complex systems.\n",
    "\n",
    "In Python, encapsulation is achieved through naming conventions for variables and methods:\n",
    "\n",
    "Attributes and methods starting with a single underscore (_) are considered protected and intended for internal use. This is a convention and does not enforce access restriction.\n",
    "Attributes and methods starting with double underscores (__) become private and are harder to access from outside due to name mangling.\n",
    "\n",
    "Example of Encapsulation\n",
    "Consider a BankAccount class that uses encapsulation to manage access to its internal data."
   ]
  },
  {
   "cell_type": "code",
   "execution_count": 12,
   "id": "e09f26ba-a7b1-4f0b-8d1b-e73f93520eca",
   "metadata": {},
   "outputs": [
    {
     "name": "stdout",
     "output_type": "stream",
     "text": [
      "Deposited 500. New balance is 1500\n",
      "Withdrew 200. New balance is 1300\n",
      "Current balance: 1300\n"
     ]
    }
   ],
   "source": [
    "class BankAccount:\n",
    "    def __init__(self, owner, balance):\n",
    "        self.owner = owner\n",
    "        self.__balance = balance  # Private attribute\n",
    "\n",
    "    def deposit(self, amount):\n",
    "        if amount > 0:\n",
    "            self.__balance += amount\n",
    "            print(f\"Deposited {amount}. New balance is {self.__balance}\")\n",
    "        else:\n",
    "            print(\"Deposit amount must be positive\")\n",
    "\n",
    "    def withdraw(self, amount):\n",
    "        if 0 < amount <= self.__balance:\n",
    "            self.__balance -= amount\n",
    "            print(f\"Withdrew {amount}. New balance is {self.__balance}\")\n",
    "        else:\n",
    "            print(\"Insufficient funds or invalid amount\")\n",
    "\n",
    "    def get_balance(self):\n",
    "        return self.__balance\n",
    "\n",
    "# Creating a BankAccount object\n",
    "account = BankAccount(\"Monty Python\", 1000)\n",
    "\n",
    "# Performing operations using public methods\n",
    "account.deposit(500)\n",
    "account.withdraw(200)\n",
    "print(f\"Current balance: {account.get_balance()}\")"
   ]
  },
  {
   "cell_type": "code",
   "execution_count": 13,
   "id": "703d432a-17f1-4260-8842-67e5c4ae84dd",
   "metadata": {},
   "outputs": [
    {
     "ename": "AttributeError",
     "evalue": "'BankAccount' object has no attribute '__balance'",
     "output_type": "error",
     "traceback": [
      "\u001b[0;31m---------------------------------------------------------------------------\u001b[0m",
      "\u001b[0;31mAttributeError\u001b[0m                            Traceback (most recent call last)",
      "Cell \u001b[0;32mIn[13], line 2\u001b[0m\n\u001b[1;32m      1\u001b[0m \u001b[38;5;66;03m# Direct access to private attribute is not possible\u001b[39;00m\n\u001b[0;32m----> 2\u001b[0m \u001b[38;5;28mprint\u001b[39m(\u001b[43maccount\u001b[49m\u001b[38;5;241;43m.\u001b[39;49m\u001b[43m__balance\u001b[49m)  \u001b[38;5;66;03m# This will raise an AttributeError\u001b[39;00m\n",
      "\u001b[0;31mAttributeError\u001b[0m: 'BankAccount' object has no attribute '__balance'"
     ]
    }
   ],
   "source": [
    "# Direct access to private attribute is not possible\n",
    "print(account.__balance)  # This will raise an AttributeError\n"
   ]
  },
  {
   "cell_type": "code",
   "execution_count": 3,
   "id": "4023aa1f-2d1d-47ca-8ebd-d914e826497d",
   "metadata": {},
   "outputs": [
    {
     "name": "stdout",
     "output_type": "stream",
     "text": [
      "1300\n"
     ]
    }
   ],
   "source": [
    "# However, access is possible through name mangling (not recommended)\n",
    "print(account._BankAccount__balance)  # Works, but is bad practice"
   ]
  },
  {
   "cell_type": "markdown",
   "id": "74971547-1b73-4ef8-acb8-c6b5d3482284",
   "metadata": {},
   "source": [
    "### Explanation\n",
    "- Private Attributes: The __balance attribute is private. It is hidden from direct external access and can only be modified through class methods.\n",
    "- Public Methods: The deposit, withdraw, and get_balance methods provide controlled access to the private attribute __balance.\n",
    "- Protected Attributes: Single underscore (_) can be used to create protected attributes, which are not as strictly hidden as private attributes but are still intended for internal use."
   ]
  },
  {
   "cell_type": "code",
   "execution_count": 4,
   "id": "5fa86f1e-3295-4049-b770-39d2099246e6",
   "metadata": {},
   "outputs": [
    {
     "name": "stdout",
     "output_type": "stream",
     "text": [
      "30\n",
      "Happy birthday Monty Python! You are now 31 years old.\n"
     ]
    }
   ],
   "source": [
    "# Example with Protected Attributes\n",
    "\n",
    "class Person:\n",
    "    def __init__(self, name, age):\n",
    "        self.name = name\n",
    "        self._age = age  # Protected attribute\n",
    "\n",
    "    def celebrate_birthday(self):\n",
    "        self._age += 1\n",
    "        print(f\"Happy birthday {self.name}! You are now {self._age} years old.\")\n",
    "\n",
    "# Creating a Person object\n",
    "person = Person(\"Monty Python\", 30)\n",
    "\n",
    "# Accessing protected attribute is possible but not recommended\n",
    "print(person._age)  # 30\n",
    "\n",
    "# Better to use a method to change the age\n",
    "person.celebrate_birthday()  # Happy birthday Monty Python! You are now 31 years old.\n"
   ]
  },
  {
   "cell_type": "markdown",
   "id": "05e6a437-72ea-4128-89d2-c72cb99b161b",
   "metadata": {},
   "source": [
    "### Summary of Attribute/Method Privacy Levels\n",
    "\n",
    "1. Public Attributes/Methods (no underscore):\n",
    "- Fully accessible from outside.\n",
    "- Recommended for use anywhere it is needed.\n",
    "\n",
    "2. Protected Attributes/Methods (single underscore):\n",
    "- Accessible from outside, but by convention meant for internal use.\n",
    "- Recommended for use within the class and its subclasses, but not outside.\n",
    "\n",
    "3. Private Attributes/Methods (double underscore):\n",
    "- Hidden from external access using name mangling.\n",
    "- Meant for use only within the class.\n",
    "- Accessible via class methods or name mangling, but name mangling access is discouraged.\n",
    "\n",
    "Using these conventions helps improve the structure and security of the code, making it more readable and protected from unintended modifications."
   ]
  },
  {
   "cell_type": "markdown",
   "id": "4390723e-56c7-4ade-9aad-433c8f185f11",
   "metadata": {},
   "source": [
    "## 2) Inheritance"
   ]
  },
  {
   "cell_type": "markdown",
   "id": "3f4a4962-a6f7-4cb1-a0b7-0220552bf210",
   "metadata": {},
   "source": [
    "Inheritance is an object-oriented programming principle that allows a class (called the subclass or derived class) to inherit attributes and methods from another class (called the superclass or base class). This enables code reuse and establishes a natural hierarchy between classes.\n",
    "\n",
    "In Python, inheritance is implemented by defining a new class that references a parent class.\n",
    "\n",
    "Basic Inheritance Example\n",
    "Consider a basic example where we have a Person class and a Student class that inherits from it:"
   ]
  },
  {
   "cell_type": "code",
   "execution_count": 5,
   "id": "dd7c7064-b768-4983-bdad-22232e381845",
   "metadata": {},
   "outputs": [
    {
     "name": "stdout",
     "output_type": "stream",
     "text": [
      "Hi, my name is Monty Python and I am 20 years old.\n",
      "Monty Python is studying.\n"
     ]
    }
   ],
   "source": [
    "class Person:\n",
    "    def __init__(self, name, age):\n",
    "        self.name = name\n",
    "        self.age = age\n",
    "\n",
    "    def introduce(self):\n",
    "        print(f\"Hi, my name is {self.name} and I am {self.age} years old.\")\n",
    "\n",
    "class Student(Person):\n",
    "    def __init__(self, name, age, student_id):\n",
    "        super().__init__(name, age)\n",
    "        self.student_id = student_id\n",
    "\n",
    "    def study(self):\n",
    "        print(f\"{self.name} is studying.\")\n",
    "\n",
    "# Creating a Student object\n",
    "student = Student(name=\"Monty Python\", age=20, student_id=\"S12345\")\n",
    "\n",
    "# Using inherited method\n",
    "student.introduce()  # Hi, my name is Monty Python and I am 20 years old.\n",
    "\n",
    "# Using Student's own method\n",
    "student.study()  # Monty Python is studying."
   ]
  },
  {
   "cell_type": "markdown",
   "id": "2ce0e442-26a5-4d51-9741-1d24cae0f272",
   "metadata": {},
   "source": [
    "### Explanation\n",
    "- Superclass (Person): The Person class has attributes name and age, and a method introduce.\n",
    "- Subclass (Student): The Student class inherits from Person. It adds a new attribute student_id and a new method study.\n",
    "- super(): The super() function is used in the Student class's __init__ method to call the __init__ method of the Person class, ensuring the name and age attributes are initialized."
   ]
  },
  {
   "cell_type": "markdown",
   "id": "19c83bc1-e13f-40d4-baf1-e66cc5eefeb5",
   "metadata": {},
   "source": [
    "### Multiple Inheritance Example\n",
    "Python supports multiple inheritance, where a class can inherit from more than one superclass."
   ]
  },
  {
   "cell_type": "code",
   "execution_count": 6,
   "id": "cf34614f-c169-4e15-97b1-cc982d54a9da",
   "metadata": {},
   "outputs": [
    {
     "name": "stdout",
     "output_type": "stream",
     "text": [
      "Flying in the sky.\n",
      "Swimming in the water.\n"
     ]
    }
   ],
   "source": [
    "class Flyer:\n",
    "    def fly(self):\n",
    "        print(\"Flying in the sky.\")\n",
    "\n",
    "class Swimmer:\n",
    "    def swim(self):\n",
    "        print(\"Swimming in the water.\")\n",
    "\n",
    "class FlyingFish(Flyer, Swimmer):\n",
    "    pass\n",
    "\n",
    "# Creating a FlyingFish object\n",
    "flying_fish = FlyingFish()\n",
    "\n",
    "# Using methods from both parent classes\n",
    "flying_fish.fly()  # Flying in the sky.\n",
    "flying_fish.swim()  # Swimming in the water.\n"
   ]
  },
  {
   "cell_type": "markdown",
   "id": "a6c34585-ae09-44a8-b322-041bee98e000",
   "metadata": {},
   "source": [
    "### Explanation\n",
    "- Flyer: A class with a fly method.\n",
    "- Swimmer: A class with a swim method.\n",
    "- FlyingFish: Inherits from both Flyer and Swimmer, thus gaining both fly and swim methods."
   ]
  },
  {
   "cell_type": "markdown",
   "id": "f75ad47c-3733-427c-8d6f-61991937a2e0",
   "metadata": {},
   "source": [
    "## 3) Composition\n",
    "\n",
    "Composition is an object-oriented programming principle that allows one object to contain other objects as its components. Composition represents a \"has-a\" relationship and allows creating complex objects from simpler ones.\n",
    "\n",
    "In Python, composition is achieved by including one or more objects within other objects as attributes. This allows combining the functionality of multiple classes into one without resorting to inheritance.\n",
    "\n",
    "Prefer composition over inheritance:\n",
    "While inheritance allows for code reuse and logical hierarchy, it can introduce complexity and tight coupling between classes, especially with multiple inheritance. Composition is often preferred as it provides more flexibility and simpler relationships."
   ]
  },
  {
   "cell_type": "markdown",
   "id": "ae59ad86-e741-40dd-ba9d-cc335bea034f",
   "metadata": {},
   "source": [
    "### Example 1: Basic Composition\n",
    "Let's consider a Car class that contains an Engine object as a component:"
   ]
  },
  {
   "cell_type": "code",
   "execution_count": 7,
   "id": "64d4b6e4-e53b-42a6-befc-848b2378a5c2",
   "metadata": {},
   "outputs": [
    {
     "name": "stdout",
     "output_type": "stream",
     "text": [
      "Toyota Corolla is starting...\n",
      "Engine with 150 horsepower started\n"
     ]
    }
   ],
   "source": [
    "class Engine:\n",
    "    def __init__(self, horsepower):\n",
    "        self.horsepower = horsepower\n",
    "\n",
    "    def start(self):\n",
    "        print(f\"Engine with {self.horsepower} horsepower started\")\n",
    "\n",
    "class Car:\n",
    "    def __init__(self, make, model, engine):\n",
    "        self.make = make\n",
    "        self.model = model\n",
    "        self.engine = engine\n",
    "\n",
    "    def start(self):\n",
    "        print(f\"{self.make} {self.model} is starting...\")\n",
    "        self.engine.start()\n",
    "\n",
    "# Creating an Engine object\n",
    "engine = Engine(150)\n",
    "\n",
    "# Creating a Car object with the Engine object as a component\n",
    "car = Car(\"Toyota\", \"Corolla\", engine)\n",
    "\n",
    "# Using Car and Engine methods\n",
    "car.start()"
   ]
  },
  {
   "cell_type": "markdown",
   "id": "bcb067cd-6e56-4668-8f2c-45ad6508e566",
   "metadata": {},
   "source": [
    "### Explanation\n",
    "\n",
    "In this code, composition is demonstrated by the Car class including an Engine object as an attribute. This allows the Car to use the Engine's functionality.\n",
    "\n",
    "- Engine Class: Represents an engine with horsepower and a method to start the engine.\n",
    "- Car Class: Includes make, model, and an engine attribute. The start method of Car calls the start method of its Engine component."
   ]
  },
  {
   "cell_type": "markdown",
   "id": "1d356fb2-ec92-4339-a425-f67804a06b9d",
   "metadata": {},
   "source": [
    "### Example 2: Composition with Multiple Components\n",
    "Consider a more complex example where a car consists of multiple components: engine, wheels, and body."
   ]
  },
  {
   "cell_type": "code",
   "execution_count": 8,
   "id": "661fa80a-f7d2-491d-b3e0-7a4cbc1c5e16",
   "metadata": {},
   "outputs": [
    {
     "name": "stdout",
     "output_type": "stream",
     "text": [
      "Ford Mustang is starting...\n",
      "Engine with 200 horsepower started\n",
      "Wheel of size 17 is rotating\n",
      "Wheel of size 17 is rotating\n",
      "Wheel of size 17 is rotating\n",
      "Wheel of size 17 is rotating\n",
      "Car body color is Red\n"
     ]
    }
   ],
   "source": [
    "class Engine:\n",
    "    def __init__(self, horsepower):\n",
    "        self.horsepower = horsepower\n",
    "\n",
    "    def start(self):\n",
    "        print(f\"Engine with {self.horsepower} horsepower started\")\n",
    "\n",
    "class Wheel:\n",
    "    def __init__(self, size):\n",
    "        self.size = size\n",
    "\n",
    "    def rotate(self):\n",
    "        print(f\"Wheel of size {self.size} is rotating\")\n",
    "\n",
    "class Body:\n",
    "    def __init__(self, color):\n",
    "        self.color = color\n",
    "\n",
    "    def display(self):\n",
    "        print(f\"Car body color is {self.color}\")\n",
    "\n",
    "class Car:\n",
    "    def __init__(self, make, model, engine, wheels, body):\n",
    "        self.make = make\n",
    "        self.model = model\n",
    "        self.engine = engine\n",
    "        self.wheels = wheels\n",
    "        self.body = body\n",
    "\n",
    "    def start(self):\n",
    "        print(f\"{self.make} {self.model} is starting...\")\n",
    "        self.engine.start()\n",
    "        for wheel in self.wheels:\n",
    "            wheel.rotate()\n",
    "        self.body.display()\n",
    "\n",
    "# Creating car components\n",
    "engine = Engine(200)\n",
    "wheels = [Wheel(17), Wheel(17), Wheel(17), Wheel(17)]\n",
    "body = Body(\"Red\")\n",
    "\n",
    "# Creating a Car object with components\n",
    "car = Car(\"Ford\", \"Mustang\", engine, wheels, body)\n",
    "\n",
    "# Using Car and its component methods\n",
    "car.start()"
   ]
  },
  {
   "cell_type": "markdown",
   "id": "528b09c4-a657-4a3b-888a-6a4811c61d3b",
   "metadata": {},
   "source": [
    "### Explanation\n",
    "\n",
    "- Engine, Wheel, and Body are components that can exist independently of the Car class.\n",
    "- The Car class uses composition to combine these components. \n",
    "- In the __init__ constructor, we accept component objects and store them as attributes.\n",
    "- The Car class's start method calls the methods of its components, demonstrating how Car interacts with its parts."
   ]
  },
  {
   "cell_type": "markdown",
   "id": "19741f2b-7938-4edb-a39b-d778f6c9bbd0",
   "metadata": {},
   "source": [
    "## 4) Polimorfism"
   ]
  },
  {
   "cell_type": "markdown",
   "id": "4fa4f883-59c6-463c-aec0-cf1a0cef3561",
   "metadata": {},
   "source": [
    "Polymorphism is an object-oriented programming principle that allows objects of different classes to be treated as objects of a common superclass. It enables a single interface to represent different underlying forms (data types). This means that a method can perform different functions based on the object that it is acting upon."
   ]
  },
  {
   "cell_type": "markdown",
   "id": "6a23a242-0077-4ac7-b087-32373e1c545d",
   "metadata": {},
   "source": [
    "### Polymorphism with Inheritance\n",
    "Polymorphism is often used with inheritance, where subclasses provide specific implementations of methods that are defined in their superclass.\n",
    "\n",
    "#### Example 1: Method Overriding\n",
    "Consider a Shape superclass with a draw method, and two subclasses Circle and Square that override the draw method."
   ]
  },
  {
   "cell_type": "code",
   "execution_count": 10,
   "id": "04c0f3e1-d0f8-4151-a16f-133296f5ad71",
   "metadata": {},
   "outputs": [
    {
     "name": "stdout",
     "output_type": "stream",
     "text": [
      "Drawing a circle\n",
      "Drawing a square\n"
     ]
    }
   ],
   "source": [
    "class Shape:\n",
    "    def draw(self):\n",
    "        raise NotImplementedError(\"Subclasses should implement this!\")\n",
    "\n",
    "class Circle(Shape):\n",
    "    def draw(self):\n",
    "        print(\"Drawing a circle\")\n",
    "\n",
    "class Square(Shape):\n",
    "    def draw(self):\n",
    "        print(\"Drawing a square\")\n",
    "\n",
    "# List of shape objects\n",
    "shapes = [Circle(), Square()]\n",
    "\n",
    "# Polymorphic call to draw method\n",
    "for shape in shapes:\n",
    "    shape.draw()"
   ]
  },
  {
   "cell_type": "markdown",
   "id": "7f64c927-c9ff-45b4-95b1-579e5259966c",
   "metadata": {},
   "source": [
    "#### Explanation\n",
    "\n",
    "- Shape (Superclass): Defines a draw method that is meant to be overridden by subclasses.\n",
    "- Circle and Square (Subclasses): Provide specific implementations of the draw method.\n",
    "- Polymorphic Call: Iterating through a list of Shape objects and calling the draw method on each demonstrates polymorphism. Each object responds to the draw method call according to its own implementation."
   ]
  },
  {
   "cell_type": "markdown",
   "id": "2bd4c466-1bec-4165-879d-0b7ee6ce3942",
   "metadata": {},
   "source": [
    "#### Example 2: Polymorphism with Functions\n",
    "Polymorphism can also be achieved with functions that operate on objects of different classes."
   ]
  },
  {
   "cell_type": "code",
   "execution_count": 11,
   "id": "ac61f103-19eb-4c9a-97e3-51a554fcd418",
   "metadata": {},
   "outputs": [
    {
     "name": "stdout",
     "output_type": "stream",
     "text": [
      "Bark\n",
      "Meow\n"
     ]
    }
   ],
   "source": [
    "class Dog:\n",
    "    def sound(self):\n",
    "        return \"Bark\"\n",
    "\n",
    "class Cat:\n",
    "    def sound(self):\n",
    "        return \"Meow\"\n",
    "\n",
    "def make_sound(animal):\n",
    "    print(animal.sound())\n",
    "\n",
    "# Creating objects\n",
    "dog = Dog()\n",
    "cat = Cat()\n",
    "\n",
    "# Polymorphic function calls\n",
    "make_sound(dog)  # Bark\n",
    "make_sound(cat)  # Meow"
   ]
  },
  {
   "cell_type": "markdown",
   "id": "53349148-8abf-4282-909b-a75cbdcc7aa2",
   "metadata": {},
   "source": [
    "#### Explanation\n",
    "\n",
    "- Dog and Cat Classes: Each class defines a sound method with different implementations.\n",
    "- make_sound Function: Takes an animal object and calls its sound method.\n",
    "- Polymorphic Calls: The make_sound function can operate on both Dog and Cat objects, demonstrating polymorphism."
   ]
  },
  {
   "cell_type": "markdown",
   "id": "dcf31946-d5ba-4c90-8ce3-d67e0490bf9e",
   "metadata": {},
   "source": [
    "### Polymorphism with Abstract Base Classes\n",
    "Python provides the abc module, which allows defining abstract base classes. An abstract base class can define a common interface for subclasses, enforcing them to implement specific methods."
   ]
  },
  {
   "cell_type": "code",
   "execution_count": 10,
   "id": "2d50b1cc-2d8d-4815-8fe1-200b4555655a",
   "metadata": {},
   "outputs": [
    {
     "name": "stdout",
     "output_type": "stream",
     "text": [
      "Bark\n",
      "Meow\n"
     ]
    }
   ],
   "source": [
    "from abc import ABC, abstractmethod\n",
    "\n",
    "class Animal(ABC):\n",
    "    @abstractmethod\n",
    "    def sound(self):\n",
    "        pass\n",
    "\n",
    "class Dog(Animal):\n",
    "    def sound(self):\n",
    "        return \"Bark\"\n",
    "\n",
    "class Cat(Animal):\n",
    "    def sound(self):\n",
    "        return \"Meow\"\n",
    "\n",
    "# Creating objects\n",
    "dog = Dog()\n",
    "cat = Cat()\n",
    "\n",
    "# Polymorphic calls\n",
    "print(dog.sound())  # Bark\n",
    "print(cat.sound())  # Meow"
   ]
  },
  {
   "cell_type": "markdown",
   "id": "d2426cf8-3a6a-4ce6-98fc-2b1b179ba85a",
   "metadata": {},
   "source": [
    "#### Explanation\n",
    "- Animal (Abstract Base Class): Defines an abstract method sound that must be implemented by any subclass.\n",
    "- Dog and Cat (Subclasses): Provide specific implementations of the sound method.\n",
    "- Polymorphic Calls: Instances of Dog and Cat can be used interchangeably when calling the sound method."
   ]
  },
  {
   "cell_type": "markdown",
   "id": "861d46f5-bffd-4430-bfe0-8301c817eabd",
   "metadata": {},
   "source": [
    "### Polymorphism with Duck Typing\n",
    "\n",
    "Python supports duck typing, where the type or class of an object is less important than the methods it defines. If an object implements the necessary methods, it can be used interchangeably with any other object that implements the same methods."
   ]
  },
  {
   "cell_type": "code",
   "execution_count": 11,
   "id": "51280b24-b0bb-4236-9c4f-200e156372c6",
   "metadata": {},
   "outputs": [
    {
     "name": "stdout",
     "output_type": "stream",
     "text": [
      "Bird is flying\n",
      "Airplane is flying\n"
     ]
    }
   ],
   "source": [
    "class Bird:\n",
    "    def fly(self):\n",
    "        print(\"Bird is flying\")\n",
    "\n",
    "class Airplane:\n",
    "    def fly(self):\n",
    "        print(\"Airplane is flying\")\n",
    "\n",
    "def let_it_fly(flying_object):\n",
    "    flying_object.fly()\n",
    "\n",
    "# Creating objects\n",
    "bird = Bird()\n",
    "airplane = Airplane()\n",
    "\n",
    "# Polymorphic function calls\n",
    "let_it_fly(bird)  # Bird is flying\n",
    "let_it_fly(airplane)  # Airplane is flying\n",
    "\n"
   ]
  },
  {
   "cell_type": "markdown",
   "id": "5366d59e-236f-4ddd-8ef1-4d225304b664",
   "metadata": {},
   "source": [
    "#### Explanation\n",
    "- Bird and Airplane Classes: Both classes define a fly method.\n",
    "- let_it_fly Function: Takes any object and calls its fly method.\n",
    "- Polymorphic Calls: Both Bird and Airplane objects can be passed to let_it_fly, demonstrating polymorphism through duck typing."
   ]
  },
  {
   "cell_type": "markdown",
   "id": "abf49d02-2bde-4735-a7a2-7493203509a2",
   "metadata": {},
   "source": [
    "### Summary of Polymorphism\n",
    "- Polymorphism with Inheritance: Subclasses override methods of a common superclass, allowing objects to be treated polymorphically.\n",
    "- Polymorphism with Functions: Functions can operate on objects of different classes if they implement the required methods.\n",
    "- Abstract Base Classes: Define a common interface for subclasses, enforcing method implementation.\n",
    "- Duck Typing: Focuses on the methods an object implements rather than its class, allowing for flexible polymorphism.\n",
    "\n",
    "Polymorphism enhances code flexibility and reusability, enabling a single interface to represent different underlying forms. This principle is fundamental in creating scalable and maintainable object-oriented systems."
   ]
  },
  {
   "cell_type": "code",
   "execution_count": null,
   "id": "5084c6bc-04ac-44e4-acce-c205ddc31160",
   "metadata": {},
   "outputs": [],
   "source": []
  }
 ],
 "metadata": {
  "kernelspec": {
   "display_name": "Python 3 (ipykernel)",
   "language": "python",
   "name": "python3"
  },
  "language_info": {
   "codemirror_mode": {
    "name": "ipython",
    "version": 3
   },
   "file_extension": ".py",
   "mimetype": "text/x-python",
   "name": "python",
   "nbconvert_exporter": "python",
   "pygments_lexer": "ipython3",
   "version": "3.12.4"
  }
 },
 "nbformat": 4,
 "nbformat_minor": 5
}

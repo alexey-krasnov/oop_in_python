{
 "cells": [
  {
   "cell_type": "markdown",
   "id": "04232463-c632-48b9-abd2-53aa8a41baba",
   "metadata": {},
   "source": [
    "# Глава 15,16,17 Объектно-ориентированное программирование в Python"
   ]
  },
  {
   "cell_type": "markdown",
   "id": "bb64ede4-8888-4a34-a0c0-3afeb5ba3f1a",
   "metadata": {},
   "source": [
    "## A) Инкапсуляция"
   ]
  },
  {
   "cell_type": "markdown",
   "id": "705ae454-b148-4d46-bb9b-993d85763110",
   "metadata": {},
   "source": [
    "Инкапсуляция — это принцип объектно-ориентированного программирования, который ограничивает доступ к внутренним данным и методам объекта, предоставляя доступ только к необходимым частям через специально определенные методы. Это помогает защитить данные от непреднамеренного изменения и упрощает управление сложными системами.\n",
    "\n",
    "В Python инкапсуляция достигается использованием соглашений о наименовании переменных и методов:\n",
    "\n",
    "Атрибуты и методы, начинающиеся с одного подчеркивания (_), считаются защищенными и предназначены для внутреннего использования. Это всего лишь соглашение и не предотвращает доступ к ним извне.\n",
    "\n",
    "Атрибуты и методы, начинающиеся с двух подчеркиваний (__), становятся частными и их труднее (но все же возможно) получить извне из-за манглинга имен.\n",
    "\n",
    "Пример инкапсуляции\n",
    "Рассмотрим пример класса BankAccount, который использует инкапсуляцию для управления доступом к внутренним данным."
   ]
  },
  {
   "cell_type": "code",
   "execution_count": 3,
   "id": "e09f26ba-a7b1-4f0b-8d1b-e73f93520eca",
   "metadata": {},
   "outputs": [],
   "source": [
    "class BankAccount:\n",
    "    def __init__(self, owner, balance):\n",
    "        self.owner = owner\n",
    "        self.__balance = balance  # Приватный атрибут\n",
    "\n",
    "    def deposit(self, amount):\n",
    "        if amount > 0:\n",
    "            self.__balance += amount\n",
    "            print(f\"Deposited {amount}. New balance is {self.__balance}\")\n",
    "        else:\n",
    "            print(\"Deposit amount must be positive\")\n",
    "\n",
    "    def withdraw(self, amount):\n",
    "        if 0 < amount <= self.__balance:\n",
    "            self.__balance -= amount\n",
    "            print(f\"Withdrew {amount}. New balance is {self.__balance}\")\n",
    "        else:\n",
    "            print(\"Insufficient funds or invalid amount\")\n",
    "\n",
    "    def get_balance(self):\n",
    "        return self.__balance\n"
   ]
  },
  {
   "cell_type": "code",
   "execution_count": null,
   "id": "f10c0bf1-0906-48bb-b8a5-2500aa78573f",
   "metadata": {},
   "outputs": [],
   "source": [
    "# Создаем объект BankAccount\n",
    "account = BankAccount(\"Alice\", 1000)\n",
    "\n",
    "# Делаем операции с аккаунтом через публичные методы\n",
    "account.deposit(500)\n",
    "account.withdraw(200)\n",
    "print(f\"Current balance: {account.get_balance()}\")\n",
    "\n",
    "# Прямой доступ к приватному атрибуту невозможен\n",
    "# print(account.__balance)  # Это вызовет ошибку\n",
    "\n",
    "# Однако доступ возможен через манглинг имен (не рекомендуется)\n",
    "print(account._BankAccount__balance)  # Работает, но это плохая практика\n"
   ]
  },
  {
   "cell_type": "markdown",
   "id": "58f8259f-7773-48ba-bdac-c49bcd3f6ba3",
   "metadata": {},
   "source": [
    "## B) Полиморфизм"
   ]
  },
  {
   "cell_type": "code",
   "execution_count": null,
   "id": "6d92c409-3fab-4897-a0c8-4c510f108ebc",
   "metadata": {},
   "outputs": [],
   "source": []
  },
  {
   "cell_type": "markdown",
   "id": "4390723e-56c7-4ade-9aad-433c8f185f11",
   "metadata": {},
   "source": [
    "## C) Наследование"
   ]
  },
  {
   "cell_type": "code",
   "execution_count": null,
   "id": "2dc53d66-b6db-42ee-ad9a-14f71e42d191",
   "metadata": {},
   "outputs": [],
   "source": []
  },
  {
   "cell_type": "markdown",
   "id": "f75ad47c-3733-427c-8d6f-61991937a2e0",
   "metadata": {},
   "source": [
    "## D) Композиция\n",
    "Композиция — это принцип объектно-ориентированного программирования, который позволяет одному объекту содержать другие объекты в качестве своих компонентов. Композиция описывает отношения \"часть-целое\" и позволяет создавать сложные объекты из более простых.\n",
    "\n",
    "В Python композиция достигается путем включения одного или нескольких объектов в другие объекты в качестве атрибутов. Это позволяет объединять функциональность нескольких классов в один, не прибегая к наследованию.\n",
    "\n",
    "Предпочитайте композицию наследованию:\n",
    "Композиция позволяет гибко создавать сложные объекты, повторно использовать код и избегать проблем, связанных с наследованием, таких как множественное наследование и связанные с ним сложности."
   ]
  },
  {
   "cell_type": "markdown",
   "id": "18f6fb87-8a24-41cc-8abd-df9ef4254b69",
   "metadata": {},
   "source": [
    "Пример 1: Композиция\n",
    "Предположим, у нас есть класс Engine (двигатель) и класс Car (автомобиль). В этом примере автомобиль будет иметь двигатель в качестве своего компонента:"
   ]
  },
  {
   "cell_type": "code",
   "execution_count": 7,
   "id": "64d4b6e4-e53b-42a6-befc-848b2378a5c2",
   "metadata": {},
   "outputs": [],
   "source": [
    "class Engine:\n",
    "    def __init__(self, horsepower):\n",
    "        self.horsepower = horsepower\n",
    "\n",
    "    def start(self):\n",
    "        print(f\"Engine with {self.horsepower} horsepower started\")\n",
    "\n",
    "class Car:\n",
    "    def __init__(self, make, model, engine):\n",
    "        self.make = make\n",
    "        self.model = model\n",
    "        self.engine = engine\n",
    "\n",
    "    def start(self):\n",
    "        print(f\"{self.make} {self.model} is starting...\")\n",
    "        print(self.engine.horsepower)\n",
    "        self.engine.start()\n",
    "\n"
   ]
  },
  {
   "cell_type": "code",
   "execution_count": 8,
   "id": "15ea3220-eed0-4f07-b1d6-b939a3dfccc1",
   "metadata": {},
   "outputs": [
    {
     "name": "stdout",
     "output_type": "stream",
     "text": [
      "Engine with 150 horsepower started\n",
      "None\n",
      "Toyota Corolla is starting...\n",
      "150\n",
      "Engine with 150 horsepower started\n"
     ]
    }
   ],
   "source": [
    "# Создаем объект Engine\n",
    "engine = Engine(150)\n",
    "print(engine.start())\n",
    "\n",
    "# Создаем объект Car, передавая объект Engine как компонент\n",
    "car = Car(make=\"Toyota\", model=\"Corolla\", engine=engine)\n",
    "\n",
    "# Используем методы Car и Engine\n",
    "car.start()\n"
   ]
  },
  {
   "cell_type": "markdown",
   "id": "1d356fb2-ec92-4339-a425-f67804a06b9d",
   "metadata": {},
   "source": [
    "Пример 2: Композиция с несколькими компонентами\n",
    "Рассмотрим более сложный пример, где автомобиль состоит из нескольких компонентов: двигателя, колес и кузова."
   ]
  },
  {
   "cell_type": "code",
   "execution_count": 12,
   "id": "661fa80a-f7d2-491d-b3e0-7a4cbc1c5e16",
   "metadata": {},
   "outputs": [
    {
     "name": "stdout",
     "output_type": "stream",
     "text": [
      "Ford Mustang is starting...\n",
      "Engine with 200 horsepower started\n",
      "Wheel of size 17 is rotating\n",
      "Wheel of size 17 is rotating\n",
      "Wheel of size 17 is rotating\n",
      "Wheel of size 17 is rotating\n",
      "Car body color is Red\n"
     ]
    }
   ],
   "source": [
    "class Engine:\n",
    "    def __init__(self, horsepower):\n",
    "        self.horsepower = horsepower\n",
    "\n",
    "    def start(self):\n",
    "        print(f\"Engine with {self.horsepower} horsepower started\")\n",
    "\n",
    "class Wheel:\n",
    "    def __init__(self, size):\n",
    "        self.size = size\n",
    "\n",
    "    def rotate(self):\n",
    "        print(f\"Wheel of size {self.size} is rotating\")\n",
    "\n",
    "class Body:\n",
    "    def __init__(self, color):\n",
    "        self.color = color\n",
    "\n",
    "    def display(self):\n",
    "        print(f\"Car body color is {self.color}\")\n",
    "\n",
    "class Car:\n",
    "    def __init__(self, make, model, engine, wheels, body):\n",
    "        self.make = make\n",
    "        self.model = model\n",
    "        self.engine = engine\n",
    "        self.wheels = wheels\n",
    "        self.body = body\n",
    "\n",
    "    def start(self):\n",
    "        print(f\"{self.make} {self.model} is starting...\")\n",
    "        self.engine.start()\n",
    "        for wheel in self.wheels:\n",
    "            wheel.rotate()\n",
    "        self.body.display()\n",
    "\n",
    "# Создаем компоненты автомобиля\n",
    "engine = Engine(200)\n",
    "wheels = [Wheel(17), Wheel(17), Wheel(17), Wheel(17)]\n",
    "body = Body(\"Red\")\n",
    "\n",
    "# Создаем объект Car, передавая компоненты\n",
    "car = Car(\"Ford\", \"Mustang\", engine, wheels, body)\n",
    "\n",
    "# Используем методы Car и его компонентов\n",
    "car.start()\n"
   ]
  },
  {
   "cell_type": "code",
   "execution_count": null,
   "id": "bf64cd7a-767b-4cb4-b3b7-04d87a1aa474",
   "metadata": {},
   "outputs": [],
   "source": []
  }
 ],
 "metadata": {
  "kernelspec": {
   "display_name": "Python 3 (ipykernel)",
   "language": "python",
   "name": "python3"
  },
  "language_info": {
   "codemirror_mode": {
    "name": "ipython",
    "version": 3
   },
   "file_extension": ".py",
   "mimetype": "text/x-python",
   "name": "python",
   "nbconvert_exporter": "python",
   "pygments_lexer": "ipython3",
   "version": "3.12.4"
  }
 },
 "nbformat": 4,
 "nbformat_minor": 5
}
